{
 "cells": [
  {
   "cell_type": "code",
   "execution_count": 1,
   "id": "a3b44180-c7e9-45cb-a17a-16d4785b2596",
   "metadata": {},
   "outputs": [
    {
     "name": "stdout",
     "output_type": "stream",
     "text": [
      "3.29.2\n"
     ]
    }
   ],
   "source": [
    "import cassandra\n",
    "\n",
    "print(cassandra.__version__)"
   ]
  },
  {
   "cell_type": "code",
   "execution_count": 2,
   "id": "74f40f3e-84e7-4309-8e6d-bc4a087e44d7",
   "metadata": {},
   "outputs": [
    {
     "name": "stdout",
     "output_type": "stream",
     "text": [
      "5.0.4\n"
     ]
    }
   ],
   "source": [
    "from cassandra.cluster import Cluster\n",
    "\n",
    "cluster = Cluster()\n",
    "session = cluster.connect()\n",
    "result = session.execute(\"select release_version from system.local\")\n",
    "row = result.one()\n",
    "if row:\n",
    "    print(row[0])\n",
    "else:\n",
    "    print(\"An error occurred.\")"
   ]
  },
  {
   "cell_type": "code",
   "execution_count": 3,
   "id": "b9691df7",
   "metadata": {},
   "outputs": [
    {
     "name": "stdout",
     "output_type": "stream",
     "text": [
      "Keyspace test already exists dropping\n"
     ]
    }
   ],
   "source": [
    "try:\n",
    "    query = \"DROP KEYSPACE IF EXISTS test\"\n",
    "    result = session.execute(query)\n",
    "    print(\"Keyspace test already exists dropping\")\n",
    "except Exception as err:\n",
    "    print(\"Exception Occured while using Keyspace : \", err)"
   ]
  },
  {
   "cell_type": "code",
   "execution_count": 4,
   "id": "c5a6ccc2",
   "metadata": {},
   "outputs": [
    {
     "name": "stdout",
     "output_type": "stream",
     "text": [
      "Created keyspace test\n"
     ]
    }
   ],
   "source": [
    "try:\n",
    "    query = \"CREATE KEYSPACE test WITH replication = {'class': 'SimpleStrategy', 'replication_factor' : 1} AND durable_writes = 'true'\"\n",
    "    result = session.execute(query)\n",
    "    print(\"Created keyspace test\")\n",
    "except Exception as err:\n",
    "    print(\"Exception Occured while using Keyspace : \", err)"
   ]
  },
  {
   "cell_type": "code",
   "execution_count": 5,
   "id": "788bc9a8-27c9-4c9b-a260-b5e447dd0c8f",
   "metadata": {},
   "outputs": [
    {
     "name": "stdout",
     "output_type": "stream",
     "text": [
      "Inside the test\n"
     ]
    }
   ],
   "source": [
    "try:\n",
    "    query = \"use test\"\n",
    "    session.execute(query)\n",
    "    print(\"Inside the test\")\n",
    "except Exception as err:\n",
    "    print(\"Exception Occured while using Keyspace : \", err)"
   ]
  },
  {
   "cell_type": "code",
   "execution_count": 6,
   "id": "43447103-2f6c-4e8d-970c-a6f2a5848c02",
   "metadata": {},
   "outputs": [
    {
     "name": "stdout",
     "output_type": "stream",
     "text": [
      "Table created inside the keyspace\n"
     ]
    }
   ],
   "source": [
    "try:\n",
    "    query = \"\"\"create table employee(\n",
    "                emp_id int,\n",
    "                emp_name varchar,\n",
    "                emp_salary int,\n",
    "                emp_dept varchar,\n",
    "                emp_email varchar,\n",
    "                emp_phone varchar,\n",
    "                primary key (emp_id, emp_dept)\n",
    "              )\n",
    "            \"\"\"\n",
    "    session.execute(query)\n",
    "    print(\"Table created inside the keyspace\")\n",
    "except Exception as err:\n",
    "    print(\"Exception Occured while creating the table : \", err)"
   ]
  },
  {
   "cell_type": "code",
   "execution_count": 7,
   "id": "44097e0e-a4d8-443f-aa07-b408e44e6695",
   "metadata": {},
   "outputs": [
    {
     "name": "stdout",
     "output_type": "stream",
     "text": [
      "Column dropped successfully !!\n"
     ]
    }
   ],
   "source": [
    "try:\n",
    "    query = \"alter table employee drop emp_email\"\n",
    "    session.execute(query)\n",
    "    print(\"Column dropped successfully !!\")\n",
    "except Exception as err:\n",
    "    print(\"Exception Occured while dropping the column: \", err)"
   ]
  },
  {
   "cell_type": "code",
   "execution_count": 8,
   "id": "fe22d431-5b2d-45f6-b7ab-93d4d51a586b",
   "metadata": {},
   "outputs": [
    {
     "name": "stdout",
     "output_type": "stream",
     "text": [
      "Column added successfully !!\n"
     ]
    }
   ],
   "source": [
    "try:\n",
    "    query = \"alter table employee add emp_email text\"\n",
    "    session.execute(query)\n",
    "    print(\"Column added successfully !!\")\n",
    "except Exception as err:\n",
    "    print(\"Exception Occured while adding the column: \", err)"
   ]
  },
  {
   "cell_type": "code",
   "execution_count": 9,
   "id": "103cc2aa-0624-43f3-8914-e400a74d212d",
   "metadata": {},
   "outputs": [
    {
     "name": "stdout",
     "output_type": "stream",
     "text": [
      "Record inserted successfully !!\n"
     ]
    }
   ],
   "source": [
    "try:\n",
    "    query = \"insert into employee(emp_id, emp_name, emp_salary, emp_dept, emp_email, emp_phone) values(1, 'Shashank', 10000, 'Software', 'abc.gmail.com','+91 768467474')\"\n",
    "    session.execute(query)\n",
    "    print(\"Record inserted successfully !!\")\n",
    "except Exception as err:\n",
    "    print(\"Exception Occured while inserting the data into table: \", err)"
   ]
  },
  {
   "cell_type": "code",
   "execution_count": 10,
   "id": "6e70d1f8-bb54-4007-9c41-40e2eea47669",
   "metadata": {},
   "outputs": [
    {
     "name": "stdout",
     "output_type": "stream",
     "text": [
      "Record inserted successfully !!\n"
     ]
    }
   ],
   "source": [
    "try:\n",
    "    query = \"insert into employee(emp_id, emp_name, emp_salary, emp_dept, emp_email, emp_phone) values(2, 'Rahul', 20000, 'IT', 'xyx.gmail.com','+91 908467474')\"\n",
    "    session.execute(query)\n",
    "    print(\"Record inserted successfully !!\")\n",
    "except Exception as err:\n",
    "    print(\"Exception Occured while inserting the data into table: \", err)"
   ]
  },
  {
   "cell_type": "code",
   "execution_count": 11,
   "id": "8415d854-3750-45cd-ae44-a4241aefdaad",
   "metadata": {},
   "outputs": [
    {
     "name": "stdout",
     "output_type": "stream",
     "text": [
      "Record inserted successfully !!\n"
     ]
    }
   ],
   "source": [
    "try:\n",
    "    query = \"insert into employee(emp_id, emp_name, emp_salary, emp_dept, emp_email, emp_phone) values(3, 'Sunny', 22000, 'HR', 'klm.gmail.com','+91 800067474')\"\n",
    "    session.execute(query)\n",
    "    print(\"Record inserted successfully !!\")\n",
    "except Exception as err:\n",
    "    print(\"Exception Occured while inserting the data into table: \", err)"
   ]
  },
  {
   "cell_type": "code",
   "execution_count": 12,
   "id": "cea99b91-5e37-4ab2-b316-37f05d23e2d2",
   "metadata": {},
   "outputs": [
    {
     "name": "stdout",
     "output_type": "stream",
     "text": [
      "Record inserted successfully !!\n"
     ]
    }
   ],
   "source": [
    "try:\n",
    "    query = \"insert into employee(emp_id, emp_name, emp_salary, emp_dept, emp_email, emp_phone) values(4, 'Vishal', 30000, 'Software', 'mno.gmail.com','+91 600467474')\"\n",
    "    session.execute(query)\n",
    "    print(\"Record inserted successfully !!\")\n",
    "except Exception as err:\n",
    "    print(\"Exception Occured while inserting the data into table: \", err)"
   ]
  },
  {
   "cell_type": "code",
   "execution_count": 13,
   "id": "3c2017d7-3df2-4205-b665-a1a5deacfad9",
   "metadata": {},
   "outputs": [
    {
     "name": "stdout",
     "output_type": "stream",
     "text": [
      "Row(emp_id=1, emp_dept='Software', emp_email='abc.gmail.com', emp_name='Shashank', emp_phone='+91 768467474', emp_salary=10000)\n",
      "Row(emp_id=2, emp_dept='IT', emp_email='xyx.gmail.com', emp_name='Rahul', emp_phone='+91 908467474', emp_salary=20000)\n",
      "Row(emp_id=4, emp_dept='Software', emp_email='mno.gmail.com', emp_name='Vishal', emp_phone='+91 600467474', emp_salary=30000)\n",
      "Row(emp_id=3, emp_dept='HR', emp_email='klm.gmail.com', emp_name='Sunny', emp_phone='+91 800067474', emp_salary=22000)\n"
     ]
    }
   ],
   "source": [
    "try:\n",
    "    query = \"select * from employee\"\n",
    "    result = session.execute(query)\n",
    "    for row in result:\n",
    "        print(row)\n",
    "except Exception as err:\n",
    "    print(\"Exception Occured while selecting the data from table: \", err)"
   ]
  },
  {
   "cell_type": "code",
   "execution_count": 14,
   "id": "4a944db0-3ce1-47e8-8384-daa9b58ebe58",
   "metadata": {},
   "outputs": [
    {
     "name": "stdout",
     "output_type": "stream",
     "text": [
      "Row(emp_id=1, emp_name='Shashank')\n",
      "Row(emp_id=2, emp_name='Rahul')\n",
      "Row(emp_id=4, emp_name='Vishal')\n",
      "Row(emp_id=3, emp_name='Sunny')\n"
     ]
    }
   ],
   "source": [
    "try:\n",
    "    query = \"select emp_id, emp_name from employee\"\n",
    "    result = session.execute(query)\n",
    "    for row in result:\n",
    "        print(row)\n",
    "except Exception as err:\n",
    "    print(\"Exception Occured while selecting the data from table: \", err)"
   ]
  },
  {
   "cell_type": "code",
   "execution_count": 15,
   "id": "94176f77-79e9-442c-8657-300fe525c78d",
   "metadata": {},
   "outputs": [
    {
     "name": "stdout",
     "output_type": "stream",
     "text": [
      "4\n"
     ]
    }
   ],
   "source": [
    "try:\n",
    "    query = \"select count(*) from employee\"\n",
    "    result = session.execute(query)\n",
    "    row = result.one()\n",
    "    print(row[0])\n",
    "except Exception as err:\n",
    "    print(\"Exception Occured while selecting the data from table: \", err)"
   ]
  },
  {
   "cell_type": "code",
   "execution_count": 16,
   "id": "3ae6166b-4929-4c5e-94a5-5e4c683656e3",
   "metadata": {},
   "outputs": [
    {
     "name": "stdout",
     "output_type": "stream",
     "text": [
      "Row(max_salary=30000)\n",
      "30000\n"
     ]
    }
   ],
   "source": [
    "try:\n",
    "    query = \"select max(emp_salary) as max_salary from employee\"\n",
    "    result = session.execute(query)\n",
    "    row = result.one()\n",
    "    print(row)\n",
    "    print(row[0])\n",
    "except Exception as err:\n",
    "    print(\"Exception Occured while selecting the data from table: \", err)"
   ]
  },
  {
   "cell_type": "code",
   "execution_count": 17,
   "id": "f9e6c1ff-ebc8-42da-85a6-656241726b3d",
   "metadata": {},
   "outputs": [
    {
     "name": "stdout",
     "output_type": "stream",
     "text": [
      "Row(emp_id=1, emp_dept='Software', emp_email='abc.gmail.com', emp_name='Shashank', emp_phone='+91 768467474', emp_salary=10000)\n"
     ]
    }
   ],
   "source": [
    "try:\n",
    "    query = \"select * from employee where emp_name='Shashank' ALLOW FILTERING\"\n",
    "    result = session.execute(query)\n",
    "    row = result.one()\n",
    "    print(row)\n",
    "except Exception as err:\n",
    "    print(\"Exception Occured while selecting the data from table: \", err)"
   ]
  },
  {
   "cell_type": "code",
   "execution_count": 18,
   "id": "c7cf3215-d65a-4f21-8bf7-c7a286f6ac30",
   "metadata": {},
   "outputs": [
    {
     "name": "stdout",
     "output_type": "stream",
     "text": [
      "Row(emp_id=2, emp_dept='IT', emp_email='xyx.gmail.com', emp_name='Rahul', emp_phone='+91 908467474', emp_salary=20000)\n"
     ]
    }
   ],
   "source": [
    "try:\n",
    "    query = \"select * from employee where emp_id=2\"\n",
    "    result = session.execute(query)\n",
    "    row = result.one()\n",
    "    print(row)\n",
    "except Exception as err:\n",
    "    print(\"Exception Occured while selecting the data from table: \", err)"
   ]
  },
  {
   "cell_type": "code",
   "execution_count": 19,
   "id": "68000ce3-ebd7-4849-a2ef-1dd3e8fb12ed",
   "metadata": {},
   "outputs": [
    {
     "name": "stdout",
     "output_type": "stream",
     "text": [
      "Row(emp_id=1, emp_dept='Software', emp_email='abc.gmail.com', emp_name='Shashank', emp_phone='+91 768467474', emp_salary=10000)\n"
     ]
    }
   ],
   "source": [
    "try:\n",
    "    query = \"select * from employee where emp_dept='Software' and emp_id=1\"\n",
    "    result = session.execute(query)\n",
    "    row = result.one()\n",
    "    print(row)\n",
    "except Exception as err:\n",
    "    print(\"Exception Occured while selecting the data from table: \", err)"
   ]
  },
  {
   "cell_type": "code",
   "execution_count": 20,
   "id": "1e6bce9a-ede3-48de-bf61-26da0bd7c745",
   "metadata": {},
   "outputs": [
    {
     "name": "stdout",
     "output_type": "stream",
     "text": [
      "Emp ID :  1\n",
      "Sum Of Salary :  10000\n",
      "Emp ID :  2\n",
      "Sum Of Salary :  20000\n",
      "Emp ID :  4\n",
      "Sum Of Salary :  30000\n",
      "Emp ID :  3\n",
      "Sum Of Salary :  22000\n"
     ]
    }
   ],
   "source": [
    "try:\n",
    "    query = \"select emp_id, sum(emp_salary) as sum_salary from employee group by emp_id\"\n",
    "    result = session.execute(query)\n",
    "    row = result.one()\n",
    "    for row in result:\n",
    "        print(\"Emp ID : \", row[0])\n",
    "        print(\"Sum Of Salary : \", row[1])\n",
    "except Exception as err:\n",
    "    print(\"Exception Occured while selecting the data from table: \", err)"
   ]
  },
  {
   "cell_type": "code",
   "execution_count": 21,
   "id": "7a35cfb7-1d1f-4a1c-81ca-57f26fe71dbc",
   "metadata": {},
   "outputs": [
    {
     "name": "stdout",
     "output_type": "stream",
     "text": [
      "Emp ID :  1\n",
      "Emp Dept :  Software\n",
      "Sum Of Salary :  10000\n",
      "Emp ID :  2\n",
      "Emp Dept :  IT\n",
      "Sum Of Salary :  20000\n",
      "Emp ID :  4\n",
      "Emp Dept :  Software\n",
      "Sum Of Salary :  30000\n",
      "Emp ID :  3\n",
      "Emp Dept :  HR\n",
      "Sum Of Salary :  22000\n"
     ]
    }
   ],
   "source": [
    "try:\n",
    "    query = \"select emp_id, emp_dept, sum(emp_salary) as sum_salary from employee group by emp_id, emp_dept\"\n",
    "    result = session.execute(query)\n",
    "    row = result.one()\n",
    "    for row in result:\n",
    "        print(\"Emp ID : \", row[0])\n",
    "        print(\"Emp Dept : \", row[1])\n",
    "        print(\"Sum Of Salary : \", row[2])\n",
    "except Exception as err:\n",
    "    print(\"Exception Occured while selecting the data from table: \", err)"
   ]
  },
  {
   "cell_type": "code",
   "execution_count": 22,
   "id": "a927746b",
   "metadata": {},
   "outputs": [
    {
     "name": "stdout",
     "output_type": "stream",
     "text": [
      "Table dropped successfully !!\n"
     ]
    }
   ],
   "source": [
    "try:\n",
    "    query = \"drop table employee\"\n",
    "    session.execute(query)\n",
    "    print(\"Table dropped successfully !!\")\n",
    "except Exception as err:\n",
    "    print(\"Exception Occured while dropping the table: \", err)"
   ]
  }
 ],
 "metadata": {
  "kernelspec": {
   "display_name": "rappo",
   "language": "python",
   "name": "python3"
  },
  "language_info": {
   "codemirror_mode": {
    "name": "ipython",
    "version": 3
   },
   "file_extension": ".py",
   "mimetype": "text/x-python",
   "name": "python",
   "nbconvert_exporter": "python",
   "pygments_lexer": "ipython3",
   "version": "3.12.8"
  }
 },
 "nbformat": 4,
 "nbformat_minor": 5
}
